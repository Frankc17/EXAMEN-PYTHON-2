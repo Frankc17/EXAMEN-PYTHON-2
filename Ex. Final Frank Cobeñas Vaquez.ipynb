{
  "nbformat": 4,
  "nbformat_minor": 0,
  "metadata": {
    "colab": {
      "name": "ExamenFinal.ipynb",
      "provenance": [],
      "include_colab_link": true
    },
    "kernelspec": {
      "name": "python3",
      "display_name": "Python 3"
    },
    "language_info": {
      "name": "python"
    }
  },
  "cells": [
    {
      "cell_type": "markdown",
      "metadata": {
        "id": "view-in-github",
        "colab_type": "text"
      },
      "source": [
        "<a href=\"https://colab.research.google.com/github/Frankc17/EXAMEN-PYTHON-2/blob/main/Ex.%20Final%20Frank%20Cobe%C3%B1as%20Vaquez.ipynb\" target=\"_parent\"><img src=\"https://colab.research.google.com/assets/colab-badge.svg\" alt=\"Open In Colab\"/></a>"
      ]
    },
    {
      "cell_type": "code",
      "execution_count": null,
      "metadata": {
        "id": "p9yadJ5YeGfx"
      },
      "outputs": [],
      "source": [
        "\"\"\"\n",
        "Establezca 2 modelos de clasificación para el data Iirs\n",
        "\"\"\""
      ]
    },
    {
      "cell_type": "code",
      "source": [
        "\"\"\"\n",
        "Evalúa 2 modelos: Uno con PCA y otro sin PCA para el modelo de clasificación del dataset melbournhouses\n",
        "\"\"\""
      ],
      "metadata": {
        "colab": {
          "base_uri": "https://localhost:8080/",
          "height": 35
        },
        "id": "-6oRnufgeMaT",
        "outputId": "360e0750-94a9-449b-ae5a-a3051be55892"
      },
      "execution_count": null,
      "outputs": [
        {
          "output_type": "execute_result",
          "data": {
            "application/vnd.google.colaboratory.intrinsic+json": {
              "type": "string"
            },
            "text/plain": [
              "'\\nEvalúa 2 modelos: Uno con PCA y otro sin PCA para el modelo de clasificación del dataset melbournhouses\\n'"
            ]
          },
          "metadata": {},
          "execution_count": 1
        }
      ]
    },
    {
      "cell_type": "code",
      "source": [
        "\"\"\"\n",
        "¿Existe sobreajuste al aplicar un modelo de RF con n = 200 para el modelo de wine.csv? \n",
        "\"\"\""
      ],
      "metadata": {
        "colab": {
          "base_uri": "https://localhost:8080/",
          "height": 35
        },
        "id": "TOfuYuMYeaVM",
        "outputId": "11889152-17a4-458c-a4a0-96596f632a8f"
      },
      "execution_count": null,
      "outputs": [
        {
          "output_type": "execute_result",
          "data": {
            "application/vnd.google.colaboratory.intrinsic+json": {
              "type": "string"
            },
            "text/plain": [
              "'\\n¿Existe sobreajuste al aplicar un modelo de RF con n = 200 para el modelo de wine.csv? \\n'"
            ]
          },
          "metadata": {},
          "execution_count": 2
        }
      ]
    },
    {
      "cell_type": "code",
      "source": [
        "\"\"\"\n",
        "Puedes graficar un modelo de deep leraning para la dataset de breast-cancer\n",
        "\"\"\""
      ],
      "metadata": {
        "id": "fNPyBdnnej01"
      },
      "execution_count": null,
      "outputs": []
    },
    {
      "cell_type": "code",
      "source": [
        "\"\"\"\n",
        "Crea una función que aplane la ruta de una imágen\n",
        "\"\"\""
      ],
      "metadata": {
        "id": "LNndw4yBesID"
      },
      "execution_count": null,
      "outputs": []
    }
  ]
}